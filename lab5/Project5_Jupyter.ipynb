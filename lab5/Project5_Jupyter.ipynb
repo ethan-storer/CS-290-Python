{
 "cells": [
  {
   "cell_type": "code",
   "execution_count": 32,
   "id": "9cfc03bf",
   "metadata": {},
   "outputs": [
    {
     "data": {
      "text/plain": [
       "['.ipynb_checkpoints',\n",
       " 'bezdekIris.data',\n",
       " 'Index',\n",
       " 'iris.data',\n",
       " 'iris.names',\n",
       " 'Jupyter1.ipynb',\n",
       " 'supermarkets-commas.txt',\n",
       " 'supermarkets-semi-colons.txt',\n",
       " 'supermarkets-semi-colons_nohead.txt',\n",
       " 'supermarkets.csv',\n",
       " 'supermarkets.json',\n",
       " 'supermarkets.xlsx',\n",
       " 'Untitled.ipynb']"
      ]
     },
     "execution_count": 32,
     "metadata": {},
     "output_type": "execute_result"
    }
   ],
   "source": [
    "import os\n",
    "os.listdir()"
   ]
  },
  {
   "cell_type": "code",
   "execution_count": 8,
   "id": "d9c0003c",
   "metadata": {},
   "outputs": [
    {
     "name": "stdout",
     "output_type": "stream",
     "text": [
      "   ID          Address           City             State Country         Name  \\\n",
      "0   1     3666 21st St  San Francisco          CA 94114     USA      Madeira   \n",
      "1   2   735 Dolores St  San Francisco          CA 94119     USA  Bready Shop   \n",
      "2   3      332 Hill St  San Francisco  California 94114     USA  Super River   \n",
      "3   4     3995 23rd St  San Francisco          CA 94114     USA   Ben's Shop   \n",
      "4   5  1056 Sanchez St  San Francisco        California     USA      Sanchez   \n",
      "5   6  551 Alvarado St  San Francisco          CA 94114     USA   Richvalley   \n",
      "\n",
      "   Employees  \n",
      "0          8  \n",
      "1         15  \n",
      "2         25  \n",
      "3         10  \n",
      "4         12  \n",
      "5         20  \n"
     ]
    }
   ],
   "source": [
    "import pandas as pd\n",
    "csv_contents = pd.read_csv(\"supermarkets.csv\")\n",
    "print(csv_contents)"
   ]
  },
  {
   "cell_type": "code",
   "execution_count": 3,
   "id": "a9c525d2",
   "metadata": {},
   "outputs": [
    {
     "name": "stdout",
     "output_type": "stream",
     "text": [
      "   ID          Address           City             State Country         Name  \\\n",
      "0   1     3666 21st St  San Francisco          CA 94114     USA      Madeira   \n",
      "1   2   735 Dolores St  San Francisco          CA 94119     USA  Bready Shop   \n",
      "2   3      332 Hill St  San Francisco  California 94114     USA  Super River   \n",
      "3   4     3995 23rd St  San Francisco          CA 94114     USA   Ben's Shop   \n",
      "4   5  1056 Sanchez St  San Francisco        California     USA      Sanchez   \n",
      "5   6  551 Alvarado St  San Francisco          CA 94114     USA   Richvalley   \n",
      "\n",
      "   Employees  \n",
      "0          8  \n",
      "1         15  \n",
      "2         25  \n",
      "3         10  \n",
      "4         12  \n",
      "5         20  \n"
     ]
    }
   ],
   "source": [
    "import pandas as pd\n",
    "json_contents = pd.read_json(\"supermarkets.json\")\n",
    "print(json_contents)"
   ]
  },
  {
   "cell_type": "code",
   "execution_count": 5,
   "id": "78fe5c3f",
   "metadata": {},
   "outputs": [
    {
     "name": "stdout",
     "output_type": "stream",
     "text": [
      "   ID          Address           City             State Country  \\\n",
      "0   1     3666 21st St  San Francisco          CA 94114     USA   \n",
      "1   2   735 Dolores St  San Francisco          CA 94119     USA   \n",
      "2   3      332 Hill St  San Francisco  California 94114     USA   \n",
      "3   4     3995 23rd St  San Francisco          CA 94114     USA   \n",
      "4   5  1056 Sanchez St  San Francisco        California     USA   \n",
      "5   6  551 Alvarado St  San Francisco          CA 94114     USA   \n",
      "\n",
      "  Supermarket Name  Number of Employees  \n",
      "0          Madeira                    8  \n",
      "1      Bready Shop                   15  \n",
      "2      Super River                   25  \n",
      "3       Ben's Shop                   10  \n",
      "4          Sanchez                   12  \n",
      "5       Richvalley                   20  \n"
     ]
    }
   ],
   "source": [
    "import pandas as pd\n",
    "excel_contents = pd.read_excel('supermarkets.xlsx')\n",
    "print(excel_contents)"
   ]
  },
  {
   "cell_type": "code",
   "execution_count": 8,
   "id": "7f1677be",
   "metadata": {},
   "outputs": [
    {
     "name": "stdout",
     "output_type": "stream",
     "text": [
      "   ID          Address           City             State Country         Name  \\\n",
      "0   1     3666 21st St  San Francisco          CA 94114     USA      Madeira   \n",
      "1   2   735 Dolores St  San Francisco          CA 94119     USA  Bready Shop   \n",
      "2   3      332 Hill St  San Francisco  California 94114     USA  Super River   \n",
      "3   4     3995 23rd St  San Francisco          CA 94114     USA   Ben's Shop   \n",
      "4   5  1056 Sanchez St  San Francisco        California     USA      Sanchez   \n",
      "5   6  551 Alvarado St  San Francisco          CA 94114     USA   Richvalley   \n",
      "\n",
      "   Employees  \n",
      "0          8  \n",
      "1         15  \n",
      "2         25  \n",
      "3         10  \n",
      "4         12  \n",
      "5         20  \n"
     ]
    }
   ],
   "source": [
    "import pandas as pd\n",
    "excel_contents = pd.read_csv('supermarkets-commas.txt')\n",
    "print(excel_contents)"
   ]
  },
  {
   "cell_type": "code",
   "execution_count": 10,
   "id": "74cd9020",
   "metadata": {},
   "outputs": [
    {
     "name": "stdout",
     "output_type": "stream",
     "text": [
      "   ID          Address           City             State Country          Name  \\\n",
      "0   1     3666 21st St  San Francisco          CA 94114     USA       Madeira   \n",
      "1   2   735 Dolores St  San Francisco          CA 94119     USA   Bready Shop   \n",
      "2   3      332 Hill St  San Francisco  California 94114     USA   Super River   \n",
      "3   4     3995 23rd St  San Francisco          CA 94114     USA    Ben's Shop   \n",
      "4   5  1056 Sanchez St  San Francisco        California     USA       Sanchez   \n",
      "5   6  551 Alvarado St  San Francisco          CA 94114     USA    Richvalley   \n",
      "\n",
      "   Employees  \n",
      "0          8  \n",
      "1         15  \n",
      "2         25  \n",
      "3         10  \n",
      "4         12  \n",
      "5         20  \n"
     ]
    }
   ],
   "source": [
    "import pandas as pd\n",
    "excel_contents = pd.read_csv('supermarkets-semi-colons.txt', sep=';')\n",
    "print(excel_contents)"
   ]
  },
  {
   "cell_type": "code",
   "execution_count": 31,
   "id": "e1a48ad0",
   "metadata": {},
   "outputs": [
    {
     "name": "stdout",
     "output_type": "stream",
     "text": [
      "                 ID           City             State Country          Name  \\\n",
      "Adress                                                                       \n",
      "3666 21st St      1  San Francisco          CA 94114     USA       Madeira   \n",
      "735 Dolores St    2  San Francisco          CA 94119     USA   Bready Shop   \n",
      "332 Hill St       3  San Francisco  California 94114     USA   Super River   \n",
      "3995 23rd St      4  San Francisco          CA 94114     USA    Ben's Shop   \n",
      "1056 Sanchez St   5  San Francisco        California     USA       Sanchez   \n",
      "551 Alvarado St   6  San Francisco          CA 94114     USA    Richvalley   \n",
      "\n",
      "                 Employees  \n",
      "Adress                      \n",
      "3666 21st St             8  \n",
      "735 Dolores St          15  \n",
      "332 Hill St             25  \n",
      "3995 23rd St            10  \n",
      "1056 Sanchez St         12  \n",
      "551 Alvarado St         20  \n"
     ]
    }
   ],
   "source": [
    "import pandas as pd\n",
    "excel_contents = pd.read_csv('supermarkets-semi-colons_nohead.txt', sep=';', header = None)\n",
    "excel_contents.columns = [\"ID\", \"Adress\", \"City\", \"State\", \"Country\", \"Name\", \"Employees\"]\n",
    "excel_contents.set_index([\"Adress\"], inplace=True)\n",
    "print(excel_contents)"
   ]
  },
  {
   "cell_type": "code",
   "execution_count": null,
   "id": "40704988",
   "metadata": {},
   "outputs": [],
   "source": []
  },
  {
   "cell_type": "code",
   "execution_count": null,
   "id": "0df1b05f",
   "metadata": {},
   "outputs": [],
   "source": []
  },
  {
   "cell_type": "code",
   "execution_count": null,
   "id": "1ee62d95",
   "metadata": {},
   "outputs": [],
   "source": []
  }
 ],
 "metadata": {
  "kernelspec": {
   "display_name": "Python 3 (ipykernel)",
   "language": "python",
   "name": "python3"
  },
  "language_info": {
   "codemirror_mode": {
    "name": "ipython",
    "version": 3
   },
   "file_extension": ".py",
   "mimetype": "text/x-python",
   "name": "python",
   "nbconvert_exporter": "python",
   "pygments_lexer": "ipython3",
   "version": "3.11.1"
  }
 },
 "nbformat": 4,
 "nbformat_minor": 5
}
